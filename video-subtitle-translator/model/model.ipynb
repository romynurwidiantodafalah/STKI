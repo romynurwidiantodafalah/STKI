{
 "cells": [
  {
   "cell_type": "code",
   "execution_count": 1,
   "metadata": {},
   "outputs": [
    {
     "name": "stdout",
     "output_type": "stream",
     "text": [
      "MoviePy - Writing audio in p.wav\n"
     ]
    },
    {
     "name": "stderr",
     "output_type": "stream",
     "text": [
      "                                                                    "
     ]
    },
    {
     "name": "stdout",
     "output_type": "stream",
     "text": [
      "MoviePy - Done.\n"
     ]
    },
    {
     "name": "stderr",
     "output_type": "stream",
     "text": [
      "\r"
     ]
    }
   ],
   "source": [
    "from moviepy import VideoFileClip\n",
    "\n",
    "def extract_audio(video_file, audio_file):\n",
    "\n",
    "    video = VideoFileClip(video_file)\n",
    "    audio = video.audio\n",
    "    audio.write_audiofile(audio_file)\n",
    "    audio.close()\n",
    "    video.close()\n",
    "\n",
    "extract_audio('videoplayback.mp4', 'p.wav')"
   ]
  },
  {
   "cell_type": "code",
   "execution_count": 2,
   "metadata": {},
   "outputs": [],
   "source": [
    "import speech_recognition as sr\n",
    "import os\n",
    "from googletrans import Translator\n",
    "\n",
    "def read_reference_text(file_path):\n",
    "    \"\"\"Membaca teks referensi dari file.\"\"\"\n",
    "    if not os.path.exists(file_path):\n",
    "        print(f\"File {file_path} tidak ditemukan.\")\n",
    "        return None\n",
    "\n",
    "    with open(file_path, \"r\", encoding=\"utf-8\") as file:\n",
    "        return file.read().strip()"
   ]
  },
  {
   "cell_type": "code",
   "execution_count": 3,
   "metadata": {},
   "outputs": [],
   "source": [
    "def calculate_wer(detected_text, reference_text):\n",
    "    \"\"\"Menghitung Word Error Rate (WER) antara teks yang terdeteksi dan teks referensi.\"\"\"\n",
    "    detected_words = detected_text.lower().split()\n",
    "    reference_words = reference_text.lower().split()\n",
    "\n",
    "    # Buat matriks untuk menghitung jarak edit (Levenshtein Distance)\n",
    "    n = len(reference_words)\n",
    "    m = len(detected_words)\n",
    "    dp = [[0 for _ in range(m + 1)] for _ in range(n + 1)]\n",
    "\n",
    "    for i in range(n + 1):\n",
    "        for j in range(m + 1):\n",
    "            if i == 0:\n",
    "                dp[i][j] = j\n",
    "            elif j == 0:\n",
    "                dp[i][j] = i\n",
    "            elif reference_words[i - 1] == detected_words[j - 1]:\n",
    "                dp[i][j] = dp[i - 1][j - 1]\n",
    "            else:\n",
    "                dp[i][j] = 1 + min(dp[i - 1][j], dp[i][j - 1], dp[i - 1][j - 1])\n",
    "\n",
    "    wer = dp[n][m] / n if n > 0 else 0\n",
    "    return wer * 100  # WER dalam persen"
   ]
  },
  {
   "cell_type": "code",
   "execution_count": 4,
   "metadata": {},
   "outputs": [],
   "source": [
    "def transcribe_audio(file_path, reference_text_path):\n",
    "    # Mengecek apakah file ada\n",
    "    if not os.path.exists(file_path):\n",
    "        print(f\"File {file_path} tidak ditemukan.\")\n",
    "        return\n",
    "\n",
    "    # Membaca teks referensi\n",
    "    reference_text = read_reference_text(reference_text_path)\n",
    "    if reference_text is None:\n",
    "        return\n",
    "\n",
    "    # Membuat recognizer instance\n",
    "    recognizer = sr.Recognizer()\n",
    "\n",
    "    try:\n",
    "        # Membaca file audio\n",
    "        with sr.AudioFile(file_path) as source:\n",
    "            # Merekam audio dari file\n",
    "            audio = recognizer.record(source)\n",
    "\n",
    "        # Menggunakan Google Web Speech API untuk mengonversi audio menjadi teks\n",
    "        detected_text = recognizer.recognize_google(audio, language=\"id-ID\")\n",
    "\n",
    "        # Menghitung Word Error Rate (WER)\n",
    "        wer = calculate_wer(detected_text, reference_text)\n",
    "\n",
    "        return detected_text, wer\n",
    "\n",
    "    except sr.UnknownValueError:\n",
    "        # Jika suara tidak dapat dikenali\n",
    "        print(\"Google Speech Recognition tidak bisa mengenali suara.\")\n",
    "    except sr.RequestError as e:\n",
    "        # Jika ada masalah dengan layanan Google Speech Recognition\n",
    "        print(f\"Error dengan layanan Google Speech Recognition; {e}\")\n",
    "    except Exception as e:\n",
    "        # Menangani error lainnya\n",
    "        print(f\"Terjadi kesalahan: {e}\")"
   ]
  },
  {
   "cell_type": "code",
   "execution_count": 5,
   "metadata": {},
   "outputs": [],
   "source": [
    "def translate_text(text, target_language=''):\n",
    "    \"\"\"Fungsi untuk menerjemahkan teks ke bahasa lain.\"\"\"\n",
    "    translator = Translator()\n",
    "\n",
    "    try:\n",
    "        # Menerjemahkan teks ke bahasa target\n",
    "        translation = translator.translate(text, dest=target_language)\n",
    "        print(f\"Teks setelah diterjemahkan ({target_language}): {translation.text}\")\n",
    "        return translation.text\n",
    "    except Exception as e:\n",
    "        print(f\"Terjadi kesalahan saat menerjemahkan: {e}\")\n",
    "        return None"
   ]
  },
  {
   "cell_type": "code",
   "execution_count": 6,
   "metadata": {},
   "outputs": [
    {
     "name": "stdout",
     "output_type": "stream",
     "text": [
      "Teks yang dikenali: hari ini kita ngobrol bersama Yono Bakrie Yono Bakrie Halo Bang Rani bikin podcast itu ada yang se-jam ada yang kadang setengah jam Nah aku tuh kepikiran pengen bikin podcast paling pendek di dunia ya Allah lucu kali ya Allah pendek\n",
      "Word Error Rate (WER): 46.27%\n",
      "Teks setelah diterjemahkan (en): Today we chat with Yono Bakrie Yono Bakrie Hello Bang Rani makes the podcast that is there as long as there are some sometimes half an hour.\n"
     ]
    }
   ],
   "source": [
    "# Contoh penggunaan\n",
    "file_audio = \"p.wav\"  # Ganti dengan path file WAV Anda\n",
    "reference_text_file = \"detected_text.txt\"  # Path ke file referensi teks\n",
    "\n",
    "# Transkripsi dan pengecekan WER\n",
    "detected_text, wer = transcribe_audio(file_audio, reference_text_file)\n",
    "\n",
    "# Setelah transkripsi selesai, terjemahkan teks dan cek akurasi\n",
    "if detected_text:\n",
    "    print(f\"Teks yang dikenali: {detected_text}\")\n",
    "    print(f\"Word Error Rate (WER): {wer:.2f}%\")\n",
    "    \n",
    "    # Misalnya, menerjemahkan ke Bahasa Inggris\n",
    "    target_language = 'en'\n",
    "    translated_text = translate_text(detected_text, target_language)"
   ]
  }
 ],
 "metadata": {
  "kernelspec": {
   "display_name": "Python 3",
   "language": "python",
   "name": "python3"
  },
  "language_info": {
   "codemirror_mode": {
    "name": "ipython",
    "version": 3
   },
   "file_extension": ".py",
   "mimetype": "text/x-python",
   "name": "python",
   "nbconvert_exporter": "python",
   "pygments_lexer": "ipython3",
   "version": "3.11.0"
  }
 },
 "nbformat": 4,
 "nbformat_minor": 2
}
